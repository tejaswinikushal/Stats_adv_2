{
 "cells": [
  {
   "cell_type": "markdown",
   "id": "7329884b",
   "metadata": {},
   "source": [
    "#### Q1: What are the Probability Mass Function (PMF) and Probability Density Function (PDF)? Explain with an example.\n",
    "Q2: What is Cumulative Density Function (CDF)? Explain with an example. Why CDF is used?\n",
    "Q3: What are some examples of situations where the normal distribution might be used as a model?\n",
    "Explain how the parameters of the normal distribution relate to the shape of the distribution.\n",
    "Q4: Explain the importance of Normal Distribution. Give a few real-life examples of Normal\n",
    "Distribution.\n",
    "Q5: What is Bernaulli Distribution? Give an Example. What is the difference between Bernoulli\n",
    "Distribution and Binomial Distribution?\n",
    "Q6. Consider a dataset with a mean of 50 and a standard deviation of 10. If we assume that the dataset\n",
    "is normally distributed, what is the probability that a randomly selected observation will be greater\n",
    "than 60? Use the appropriate formula and show your calculations.\n",
    "Q7: Explain uniform Distribution with an example.\n",
    "Q8: What is the z score? State the importance of the z score.\n",
    "Q9: What is Central Limit Theorem? State the significance of the Central Limit Theorem.\n",
    "Q10: State the assumptions of the Central Limit Theorem."
   ]
  },
  {
   "cell_type": "markdown",
   "id": "fc624292",
   "metadata": {},
   "source": [
    "#### Probability Mass Function (PMF):\n",
    "Used for discrete random variables.\n",
    "\n",
    "Gives the probability of specific values.\n",
    "\n",
    "Example: Rolling a fair six-sided die.\n",
    "#### Probability Density Function (PDF):\n",
    "Used for continuous random variables.\n",
    "\n",
    "Gives the likelihood of falling within a range.\n",
    "\n",
    "Example: Standard normal distribution."
   ]
  },
  {
   "cell_type": "markdown",
   "id": "5cdcbd72",
   "metadata": {},
   "source": [
    "#### Q2. What is Cumulative Density Function (CDF)? Explain with an example. Why CDF is used?"
   ]
  },
  {
   "cell_type": "markdown",
   "id": "a4b9a0ca",
   "metadata": {},
   "source": [
    "#### Cumulative Density Function (CDF):\n",
    "\n",
    "Definition: Gives the probability that a random variable is less than or equal to a specific value.\n",
    "\n",
    "Example: For a fair six-sided die, F(3) is the probability of rolling a 1, 2, or 3.\n",
    "\n",
    "Usefulness: Simplifies probability calculations for ranges, helps understand percentiles, and provides a comprehensive view of the probability distribution.\n"
   ]
  },
  {
   "cell_type": "markdown",
   "id": "e8b7addd",
   "metadata": {},
   "source": [
    "#### Q3: What are some examples of situations where the normal distribution might be used as a model?"
   ]
  },
  {
   "cell_type": "markdown",
   "id": "712ffed1",
   "metadata": {},
   "source": [
    "#### Height of a Population:\n",
    "Heights of a large population tend to follow a normal distribution. Most people fall within the average height range, with fewer individuals at extremes.\n",
    "#### IQ Scores:\n",
    "Intelligence Quotient (IQ) scores are often assumed to follow a normal distribution. The majority of people cluster around the average IQ, and fewer individuals have extremely high or low scores.\n",
    "#### Measurement Errors:\n",
    "Measurement errors in scientific experiments or industrial processes often exhibit a normal distribution, especially when many small, independent factors contribute to the errors.\n",
    "#### Financial Data:\n",
    "Stock prices and returns, as well as other financial metrics, are often modeled using a normal distribution. This assumption is a basis for various financial models and risk assessments."
   ]
  },
  {
   "cell_type": "markdown",
   "id": "a6d5352e",
   "metadata": {},
   "source": [
    "#### Reaction Times:\n",
    "The time it takes for individuals to react to stimuli, such as clicking a button in response to a visual cue, often follows a normal distribution.\n",
    "#### Blood Pressure:\n",
    "Blood pressure measurements in a population are often modeled as a normal distribution, with most individuals clustered around the average.\n",
    "#### Astronomical Data:\n",
    "Certain astronomical measurements, such as the masses of stars or the luminosity of galaxies, may exhibit a normal distribution.\n",
    "#### Population IQ:\n",
    "IQ scores of a large population, when aggregated, tend to form a normal distribution.\n",
    "#### Income Distribution:\n",
    "In some contexts, the distribution of incomes in a population can be approximated by a normal distribution, especially in large and diverse populations.\n",
    "#### Exam Duration:\n",
    "The time students take to complete an exam can sometimes be modeled as a normal distribution.\n",
    "#### Electronic Component Performance:\n",
    "Parameters such as the resistance or capacitance of electronic components manufactured under consistent conditions may follow a normal distribution.\n",
    "#### Body Temperature:\n",
    "Human body temperatures in a healthy population are often distributed around a mean, forming a bell-shaped curve."
   ]
  },
  {
   "cell_type": "markdown",
   "id": "518bff29",
   "metadata": {},
   "source": [
    "#### Q5: What is Bernaulli Distribution? Give an Example. What is the difference between Bernoulli Distribution and Binomial Distribution?"
   ]
  },
  {
   "cell_type": "markdown",
   "id": "fe82528f",
   "metadata": {},
   "source": [
    "#### Bernoulli Distribution:\n",
    "\n",
    "Describes a single trial with two outcomes (success or failure).\n",
    "Example: Tossing a fair coin.\n",
    "#### Binomial Distribution:\n",
    "\n",
    "Describes the number of successes in a fixed number of independent Bernoulli trials.\n",
    "#### Parameters: \n",
    "n (number of trials) and p (probability of success in a single trial).\n",
    "Example: Counting the number of heads in 5 coin tosses.\n",
    "#### Difference:\n",
    "Bernoulli has one trial, while Binomial has multiple trials.\n",
    "Binomial includes the concept of multiple random variables and provides the distribution of successes in those trials"
   ]
  },
  {
   "cell_type": "markdown",
   "id": "6d17f09d",
   "metadata": {},
   "source": [
    "#### Q6. Consider a dataset with a mean of 50 and a standard deviation of 10. If we assume that the dataset is normally distributed, what is the probability that a randomly selected observation will be greater than 60? Use the appropriate formula and show your calculations."
   ]
  },
  {
   "cell_type": "markdown",
   "id": "1b65bac6",
   "metadata": {},
   "source": [
    "mean=50\n",
    "\n",
    "standard_deviation=10\n",
    "\n",
    "Value (X) = 60\n",
    "\n",
    "Z= (60−50)/10=1\n",
    "\n",
    "Now, we look up the Z-score in the standard normal distribution table. The probability that a standard normal random variable is greater than 1 is approximately 0.1587.\n",
    "\n",
    "So, the probability that a randomly selected observation from the given dataset will be greater than 60 is approximately \n",
    "0.1587\n",
    "0.1587 or \n",
    "15.87\n",
    "15.87."
   ]
  },
  {
   "cell_type": "markdown",
   "id": "ac4390e4",
   "metadata": {},
   "source": [
    "#### Q7: Explain uniform Distribution with an example."
   ]
  },
  {
   "cell_type": "markdown",
   "id": "5c857487",
   "metadata": {},
   "source": [
    "Uniform Distribution:\n",
    "\n",
    "Definition: All values within a specified range are equally likely to occur.\n",
    "\n",
    "Probability Density Function (PDF): Constant across the entire range, defined as 1/(b-a) for a range [a,b].\n",
    "\n",
    "Example: Rolling a fair six-sided die, where each face has an equal probability of 1/6"
   ]
  },
  {
   "cell_type": "markdown",
   "id": "b7aa7d03",
   "metadata": {},
   "source": [
    "#### Q8: What is the z score? State the importance of the z score."
   ]
  },
  {
   "cell_type": "markdown",
   "id": "799e504d",
   "metadata": {},
   "source": [
    "#### Z-Score:\n",
    "\n",
    "Definition: Standardized measure indicating how many standard deviations a data point is from the mean\n",
    "\n",
    "#### Importance:\n",
    "Standardization for cross-variable comparison.\n",
    "Identifying outliers.\n",
    "Probability estimation using standard normal distribution table.\n",
    "Facilitating comparisons and rankings.\n",
    "Normalization in statistical analyses.\n",
    "\n",
    "\n",
    "\n",
    "\n"
   ]
  },
  {
   "cell_type": "markdown",
   "id": "dbb2a995",
   "metadata": {},
   "source": [
    "#### Q9: What is Central Limit Theorem? State the significance of the Central Limit Theorem."
   ]
  },
  {
   "cell_type": "markdown",
   "id": "cdfea87c",
   "metadata": {},
   "source": [
    "#### Central Limit Theorem (CLT):\n",
    "\n",
    "Definition: For a sufficiently large sample size, the distribution of the sample mean approaches a normal distribution, irrespective of the population distribution.\n",
    "#### Significance:\n",
    "Allows approximating normality even for non-normally distributed populations.\n",
    "\n",
    "Basis for statistical inference methods.\n",
    "\n",
    "Population shape becomes less relevant for large samples.\n",
    "\n",
    "Ensures stability of sampling distribution with increasing sample size.\n",
    "\n",
    "Fundamental for hypothesis testing and confidence intervals.\n",
    "\n",
    "Crucial for statistical process control and quality assurance in industries.\n",
    "\n",
    "\n",
    "\n"
   ]
  },
  {
   "cell_type": "markdown",
   "id": "a18b5a83",
   "metadata": {},
   "source": [
    "#### Q10: State the assumptions of the Central Limit Theorem."
   ]
  },
  {
   "cell_type": "markdown",
   "id": "1b1b7352",
   "metadata": {},
   "source": [
    "#### Assumptions of the Central Limit Theorem (CLT):\n",
    "\n",
    "##### Random Sampling:\n",
    "\n",
    "Sample collected through random sampling.\n",
    "##### Independence:\n",
    "\n",
    "Observations in the sample are independent.\n",
    "##### Sample Size:\n",
    "\n",
    "Sample size is sufficiently large (typically >30).\n",
    "##### Population Distribution:\n",
    "\n",
    "Population distribution is not extremely skewed or heavily tailed.\n",
    "##### Finite Variance:\n",
    "\n",
    "Population has a finite variance."
   ]
  },
  {
   "cell_type": "code",
   "execution_count": null,
   "id": "cf98e634",
   "metadata": {},
   "outputs": [],
   "source": []
  }
 ],
 "metadata": {
  "kernelspec": {
   "display_name": "Python 3 (ipykernel)",
   "language": "python",
   "name": "python3"
  },
  "language_info": {
   "codemirror_mode": {
    "name": "ipython",
    "version": 3
   },
   "file_extension": ".py",
   "mimetype": "text/x-python",
   "name": "python",
   "nbconvert_exporter": "python",
   "pygments_lexer": "ipython3",
   "version": "3.11.2"
  }
 },
 "nbformat": 4,
 "nbformat_minor": 5
}
